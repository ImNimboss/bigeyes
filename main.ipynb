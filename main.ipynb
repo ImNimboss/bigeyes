{
 "cells": [
  {
   "cell_type": "markdown",
   "metadata": {},
   "source": [
    "# BigEyes - The only surveillance system you'll need"
   ]
  },
  {
   "cell_type": "markdown",
   "metadata": {},
   "source": [
    "### Install dependencies"
   ]
  },
  {
   "cell_type": "code",
   "execution_count": null,
   "metadata": {},
   "outputs": [],
   "source": [
    "!pip install opencv-python face_recognition requests plyer pyobjus playsound"
   ]
  },
  {
   "cell_type": "markdown",
   "metadata": {},
   "source": [
    "### Import packages and assign variables"
   ]
  },
  {
   "cell_type": "code",
   "execution_count": null,
   "metadata": {},
   "outputs": [],
   "source": [
    "import json\n",
    "import cv2\n",
    "import face_recognition\n",
    "import requests\n",
    "from os import listdir, system\n",
    "from os.path import isdir\n",
    "from sys import platform\n",
    "from re import match\n",
    "from plyer import notification\n",
    "from playsound import playsound\n",
    "import matplotlib.pyplot as plt\n",
    "from datetime import datetime\n",
    "\n",
    "with open('config.json') as f: config = json.load(f)\n",
    "\n",
    "known_encodings = []\n",
    "\n",
    "for file in listdir('authorized_users'):\n",
    "    known_encodings.append(\n",
    "        face_recognition.face_encodings(face_recognition.load_image_file('authorized_users/' + file))[0]\n",
    "    )"
   ]
  },
  {
   "cell_type": "markdown",
   "metadata": {},
   "source": [
    "### Add new user function"
   ]
  },
  {
   "cell_type": "code",
   "execution_count": null,
   "metadata": {},
   "outputs": [],
   "source": [
    "def add_new_authorized_user():\n",
    "    name = input('Hi! Enter a name to add a new authorized user. This name will be used to identify the user and cannot be changed or used for another user.\\n')\n",
    "    if '.' in name or '/' in name:\n",
    "        return print('Names can\\'t have dots or forward slashes! Please try again.')\n",
    "    for authorized_user in listdir('authorized_users'):\n",
    "        if authorized_user.split('.')[0].lower() == name.lower():\n",
    "            return print(f'This name is already in use! Please choose another name or delete the user {name}.')\n",
    "    \n",
    "    image = input(f'Alright, {name} it is. Enter a path to an image of the face of the user you want to add. Make sure this image is clear and that the user is directly facing the camera.\\n')\n",
    "\n",
    "    print('Processing the image...')\n",
    "    image = cv2.imread(image)\n",
    "    if image is None:\n",
    "        return print('That doesn\\'t seem to be a valid image file path! Please try again.')\n",
    "    image = cv2.cvtColor(image, cv2.COLOR_BGR2RGB)\n",
    "    \n",
    "    faces = face_recognition.face_locations(image)\n",
    "    face_count = len(faces)\n",
    "    if face_count == 0:\n",
    "        return print('No faces found in the image! Please try again.')\n",
    "    elif face_count > 1:\n",
    "        print('More than one face found in the image! Please try again.')\n",
    "        # draw rectangle around each face\n",
    "        for (top, right, bottom, left) in faces:\n",
    "            cv2.rectangle(image, (left, top), (right, bottom), (255, 0, 0), 2)\n",
    "        plt.imshow(image)\n",
    "        plt.axis('off')\n",
    "        return plt.show()\n",
    "    else:\n",
    "        cv2.imwrite(f'authorized_users/{name}.jpg', cv2.cvtColor(image, cv2.COLOR_BGR2RGB))\n",
    "        print('Image saved!')\n",
    "        (top, right, bottom, left) = faces[0]\n",
    "        cv2.rectangle(image, (left, top), (right, bottom), (0, 255, 0), 2)\n",
    "        plt.imshow(image)\n",
    "        plt.axis('off')\n",
    "        plt.show()\n",
    "\n",
    "# add_new_authorized_user()"
   ]
  },
  {
   "cell_type": "markdown",
   "metadata": {},
   "source": [
    "### Configuration function"
   ]
  },
  {
   "cell_type": "code",
   "execution_count": null,
   "metadata": {},
   "outputs": [],
   "source": [
    "def setup_user_config():\n",
    "    global config\n",
    "    \n",
    "    flag = True\n",
    "    while flag:\n",
    "        folder = input('I will be saving all the pictures of unauthorized intruders that wrongly entered the area in a folder of your choice. Create a folder for this and enter the path of this folder here.\\n')\n",
    "        if not isdir(folder):\n",
    "            print('That doesn\\'t seem to be a valid folder path! Please try again.')\n",
    "        else:\n",
    "            if folder.endswith('/'):\n",
    "                folder = folder[:-1]\n",
    "            print('OK, folder set. Make sure to check this folder regularly for the pictures of unauthorized intruders.')\n",
    "            flag = False\n",
    "\n",
    "    with open('config.json') as f: config = json.load(f)\n",
    "    config['folder'] = folder\n",
    "    with open('config.json', 'w') as f: json.dump(config, f, indent = 4)\n",
    "\n",
    "    flag = True\n",
    "    while flag:\n",
    "        announce = input('Should I announce a warning to the intruder that entered the area verbally? This could warn them off the area. The alert would still be sent to your folder (yes/no).\\n').lower()\n",
    "        if announce == 'yes' or announce == 'y':\n",
    "            print('OK, I will announce the warning verbally to the intruder.')\n",
    "            flag = False\n",
    "        elif announce == 'no' or announce == 'n':\n",
    "            print('OK, I will not announce the warning verbally to the intruder.')\n",
    "            flag = False\n",
    "        else:\n",
    "            print('That doesn\\'t seem to be a valid answer! Try answering yes or no.')\n",
    "\n",
    "    with open('config.json') as f: config = json.load(f)\n",
    "    config['announce'] = True if announce == 'yes' or announce == 'y' else False\n",
    "    with open('config.json', 'w') as f: json.dump(config, f, indent = 4)\n",
    "\n",
    "    flag = True\n",
    "    while flag:\n",
    "        try:    \n",
    "            tolerance = (float(\n",
    "                input('How strict should the face recognition be? This is the tolerance level for how similar the face in the camera should be to the known faces. The recommended is 6, minimum is 1 and maximum is 10. The lower the number, the stricter recognition will be. ' \\\n",
    "                    'If you\\'re unsure/not facing issues, type 6. If the camera is recognizing unauthorized people as authorized people, reduce the number. If it is doing the opposite, increase the number.' \\\n",
    "                    f' Your current tolerance level is {config[\"tolerance\"]}.' if config.get('tolerance') else ''\n",
    "                )\n",
    "            )) / 10\n",
    "            if tolerance < 0.1 or tolerance > 1:\n",
    "                raise ValueError\n",
    "            flag = False\n",
    "        except ValueError:\n",
    "            print('That doesn\\'t seem to be a valid number! It must be a number which is greater than 1 and less than 10. Please try again.')\n",
    "\n",
    "    with open('config.json') as f: config = json.load(f)\n",
    "    config['tolerance'] = tolerance\n",
    "    with open('config.json', 'w') as f: json.dump(config, f, indent = 4)\n",
    "\n",
    "    print('Configuration done!')\n",
    "\n",
    "# setup_user_config()"
   ]
  },
  {
   "cell_type": "markdown",
   "metadata": {},
   "source": [
    "### Webhook setup function"
   ]
  },
  {
   "cell_type": "code",
   "execution_count": null,
   "metadata": {},
   "outputs": [],
   "source": [
    "def setup_webhook():\n",
    "    print('Tip: You should read the webhook guide using \"webhook help\".')\n",
    "    \n",
    "    global config\n",
    "    \n",
    "    flag = True\n",
    "    while flag:\n",
    "        webhook = input('Enter the webhook URL of the webhook you want to use to send the alert to.\\n')\n",
    "        if not match(r'^https?:\\/\\/.*', webhook):\n",
    "            print('That doesn\\'t seem to be a valid URL! Please try again.')\n",
    "        else:\n",
    "            print('OK, I\\'ll send a test request on the webhook...')\n",
    "            try:\n",
    "                req = requests.post(webhook, json = {'content': 'Test message'})\n",
    "                if not 299 >= req.status_code >= 200:\n",
    "                    return print(f'Hm, the webhook responded with status code {req.status_code}! Please try again, it needs to respond with a status code between 200 - 299.')\n",
    "            except requests.ConnectionError:\n",
    "                return print('Could not connect to the webhook! Please try again and/or make sure your URL is valid.')\n",
    "            print('OK, webhook set! Whenever an unauthorized user enters the area, I will send a POST request to the webhook.')\n",
    "            flag = False\n",
    "\n",
    "    with open('config.json') as f: config = json.load(f)\n",
    "    config['webhook'] = webhook\n",
    "    with open('config.json', 'w') as f: json.dump(config, f, indent = 4)"
   ]
  },
  {
   "cell_type": "markdown",
   "metadata": {},
   "source": [
    "### Webhook help function"
   ]
  },
  {
   "cell_type": "code",
   "execution_count": null,
   "metadata": {},
   "outputs": [],
   "source": [
    "def webhook_help():\n",
    "    print('''\n",
    "This section is targeted mainly at developers.\n",
    "You can setup 1 webhook using the \"webhook\" command.\n",
    "Read here to know what a webhook is - https://www.getvero.com/resources/webhooks/ - In this case, it's a URL that will receive a POST request whenever an unauthorized user enters the area\n",
    "Read here to know more about POST requests - https://apipheny.io/what-is-post-request/\n",
    "Whenever an unauthorized user enters the camera's field of view, the webhook will be sent a POST request with the following type of JSON data:\n",
    "{\n",
    "    \"datetime\": \"DD-MM-YYYY at HH-MM-SS\",\n",
    "    \"imagepath\": \"/YOUR/ALERTS/FOLDER/PATH/DD-MM-YYYY at HH-MM-SS.jpg\",\n",
    "}\n",
    "Here, \"DD-MM-YYYY at HH-MM-SS\" is the format of date and time when the alert was sent (24-hr format).\n",
    "\"/YOUR/ALERTS/FOLDER/PATH/\" is the alerts folder you set during the initial configuration, where the pictures of unauthorized users will be saved.\n",
    "\n",
    "Upon receiving a POST request from BigEyes, the developer will recieve the JSON body above for details in their webhook and can take any action based on it using their own coding.\n",
    "Eg. Setting up your own website as the webhook, coding your website to take its own customized action on the unauthorized intruder.\n",
    "\n",
    "In essence, with a little web development and coding skills, you can setup your own website to take whatever action you want to take whenever an unauthorized intruder enters! Whether that be triggering an internet controlled alarm system, sending the intruder data somewhere else, etc. The power is in your hands.\n",
    "    ''')\n",
    "\n",
    "webhook_help()"
   ]
  },
  {
   "cell_type": "markdown",
   "metadata": {},
   "source": [
    "### Enable camera detection"
   ]
  },
  {
   "cell_type": "code",
   "execution_count": null,
   "metadata": {},
   "outputs": [],
   "source": [
    "def enable_camera():\n",
    "    cascade_path = 'haarcascade_frontalface_default.xml'\n",
    "    face_cascade = cv2.CascadeClassifier(cascade_path)\n",
    "    \n",
    "    print('Video started!')\n",
    "    video_capture = cv2.VideoCapture(0)\n",
    "    # loop over frames from the video file stream\n",
    "    previous_frame_had_unauthorized_entrance = False\n",
    "    while True:\n",
    "        # grab the frame from the threaded video stream\n",
    "        ret, frame = video_capture.read()\n",
    "        gray = cv2.cvtColor(frame, cv2.COLOR_BGR2GRAY)\n",
    "        faces = face_cascade.detectMultiScale(\n",
    "            gray,\n",
    "            scaleFactor = 1.1,\n",
    "            minNeighbors = 5,\n",
    "            minSize = (60, 60),\n",
    "            flags = cv2.CASCADE_SCALE_IMAGE\n",
    "        )\n",
    "\n",
    "        rgb = cv2.cvtColor(frame, cv2.COLOR_BGR2RGB)\n",
    "        encodings = face_recognition.face_encodings(rgb)\n",
    "        \n",
    "        if len(encodings) == 0:\n",
    "            previous_frame_had_unauthorized_entrance = False\n",
    "\n",
    "        for encoding in encodings:\n",
    "            matches = face_recognition.compare_faces(\n",
    "                known_encodings,\n",
    "                encoding,\n",
    "                tolerance = config.get('tolerance') or 0.6\n",
    "            )\n",
    "            face_locations = face_recognition.face_locations(rgb)\n",
    "            unauthorized_entrance = True\n",
    "            for match in matches:\n",
    "                if bool(match): # match is a numpy bool so have to convert it to normal bool\n",
    "                    unauthorized_entrance = False\n",
    "                    break\n",
    "\n",
    "            if unauthorized_entrance:\n",
    "                print('Unauthorized entrance!')\n",
    "                if not previous_frame_had_unauthorized_entrance:\n",
    "                    for (top, right, bottom, left) in face_locations:\n",
    "                        cv2.rectangle(frame, (left, top), (right, bottom), (0, 0, 255), 2)\n",
    "                    \n",
    "                    time_now = datetime.now().strftime(\"%d-%m-%Y at %H-%M-%S\")\n",
    "                    cv2.imwrite(f'{config[\"folder\"]}/{time_now}.jpg', frame)\n",
    "                \n",
    "                    try:\n",
    "                        notification.notify(\n",
    "                            title = 'BigEyes - Intruder alert!',\n",
    "                            message = f'An intruder has been detected in the camera\\'s area! See their picture in your alerts folder - {config[\"folder\"]}.',\n",
    "                            timeout = 100\n",
    "                        )\n",
    "                    except:\n",
    "                        if platform == 'darwin': # mac support, run native AppleScript notification code\n",
    "                            system(\n",
    "                                f'osascript -e \\'display notification \"An intruder has been detected in the camera area! See their picture in your alerts folder - {config[\"folder\"]}.\" with title \"BigEyes - Intruder alert!\"\\''\n",
    "                            )\n",
    "\n",
    "                    if config.get('webhook'):\n",
    "                        requests.post(config['webhook'],\n",
    "                            json = {\n",
    "                                \"datetime\": time_now,\n",
    "                                \"imagepath\": config['folder'] + f'/{time_now}.jpg'\n",
    "                            }\n",
    "                        )\n",
    "\n",
    "                if config['announce']:\n",
    "                    playsound('unauthorized.mp3')\n",
    "\n",
    "                previous_frame_had_unauthorized_entrance = True\n",
    "            \n",
    "            else:\n",
    "                previous_frame_had_unauthorized_entrance = False\n",
    "\n",
    "# enable_camera()"
   ]
  },
  {
   "cell_type": "markdown",
   "metadata": {},
   "source": [
    "### Help function"
   ]
  },
  {
   "cell_type": "code",
   "execution_count": null,
   "metadata": {},
   "outputs": [],
   "source": [
    "def help_func():\n",
    "    print('BigEyes is a program that detects faces in a video stream and alerts you if an intruder enters the area.\\n')\n",
    "    print('Commands:\\n')\n",
    "    print('\"New\" - Adds a new authorized user for the surveillance system.')\n",
    "    print('\"Config\" - Sets up some configuration like alert system folder path, whether to announce the alert to the intruder, tolerance etc. You need to setup this config before you can activate the camera.')\n",
    "    print('\"Webhook\" - (Optional) Setup a webhook for when an unauthorized person enters the area. A webhook is a URL to which a \"POST\" type web request is sent. This is targeted at developers. Type \"webhook help\" to see more details.')\n",
    "    print('\"Webhook help\" - Shows more details on how and why to setup a webhook.')\n",
    "    print('\"Activate\" - Enables the camera and starts the video stream! Your security guard will be online.')\n",
    "    print('\"Help\" - Shows this help message.')\n",
    "    print('\"Exit\" - Stops BigEyes, or you can stop this cell.')\n",
    "    print('Tip: Activate the camera when your device is placed inside the area you want to guard in front of the entrance for the best experience.')"
   ]
  },
  {
   "cell_type": "markdown",
   "metadata": {},
   "source": [
    "### Main cell to execute"
   ]
  },
  {
   "cell_type": "code",
   "execution_count": null,
   "metadata": {},
   "outputs": [],
   "source": [
    "print('\"BigEyes - Your second pair of eyes\" is now running!\\n--------------------------------')\n",
    "print('Type \"help\" to see what you can do with me.')\n",
    "\n",
    "try:\n",
    "    while True:\n",
    "        command = input('> ').lower().strip()\n",
    "        if command == 'new':\n",
    "            add_new_authorized_user()\n",
    "        elif command == 'config':\n",
    "            setup_user_config()\n",
    "        elif command == 'webhook':\n",
    "            setup_webhook()\n",
    "        elif command == 'webhook help':\n",
    "            webhook_help()\n",
    "        elif command == 'activate':\n",
    "            if config == {}:\n",
    "                print('You need to setup the configuration before adding a new authorized user! Type \"config\" to do that.')\n",
    "            else:\n",
    "                enable_camera()\n",
    "        elif command == 'help':\n",
    "            help_func()\n",
    "        elif command == 'exit' or command == 'bye':\n",
    "            raise KeyboardInterrupt\n",
    "        else:\n",
    "            print('That doesn\\'t seem to be a valid command! Type \"help\" to see what you can do with me.')\n",
    "except KeyboardInterrupt:\n",
    "    print('\\n--------------------------------')\n",
    "    print('\"BigEyes - Your second pair of eyes\" is now stopping :(\\nHope to see you again soon.')\n",
    "    print('--------------------------------')"
   ]
  }
 ],
 "metadata": {
  "kernelspec": {
   "display_name": "Python 3.10.2 64-bit",
   "language": "python",
   "name": "python3"
  },
  "language_info": {
   "codemirror_mode": {
    "name": "ipython",
    "version": 3
   },
   "file_extension": ".py",
   "mimetype": "text/x-python",
   "name": "python",
   "nbconvert_exporter": "python",
   "pygments_lexer": "ipython3",
   "version": "3.10.2"
  },
  "orig_nbformat": 4,
  "vscode": {
   "interpreter": {
    "hash": "aee8b7b246df8f9039afb4144a1f6fd8d2ca17a180786b69acc140d282b71a49"
   }
  }
 },
 "nbformat": 4,
 "nbformat_minor": 2
}
